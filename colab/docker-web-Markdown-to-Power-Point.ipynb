{
  "cells": [
    {
      "cell_type": "markdown",
      "metadata": {
        "colab_type": "text",
        "id": "view-in-github"
      },
      "source": [
        "<a href=\"https://colab.research.google.com/github/pulipulichen/docker-web-Markdown-to-Power-Point/blob/main/colab/docker-web-Markdown-to-Power-Point.ipynb\" target=\"_parent\"><img src=\"https://colab.research.google.com/assets/colab-badge.svg\" alt=\"Open In Colab\"/></a>"
      ]
    },
    {
      "cell_type": "markdown",
      "metadata": {
        "id": "PXyY7a6O44Hj"
      },
      "source": [
        "# docker-web-Markdown-to-Power-Point\n",
        "\n",
        "將 Markdown 轉換成 PowerPoint 簡報。\n",
        "\n",
        "1. 將要處理的檔案上傳到 Files\n",
        "2. 按 `Runtime` > `Run all` ，或按 `Ctrl + F9` ，執行腳本。\n",
        "3. 在 `output` 資料夾取得結果\n",
        "\n",
        "操作說明請看：https://ppt.cc/fqbnwx\n"
      ]
    },
    {
      "cell_type": "markdown",
      "metadata": {
        "id": "C-YjnjaJ4_-z"
      },
      "source": [
        "# **Scripts**"
      ]
    },
    {
      "cell_type": "code",
      "execution_count": null,
      "metadata": {
        "id": "h5TtpfLN5BBx"
      },
      "outputs": [],
      "source": [
        "PROJECT_NAME=\"docker-web-Markdown-to-Power-Point\"\n",
        "\n",
        "# 設定配置請看 https://colab.research.google.com/drive/1_aTP6n4rQty6P0Ez4q-OtiaJJIwP3fU5#scrollTo=QEuow7m5Ai6B"
      ]
    },
    {
      "cell_type": "code",
      "execution_count": null,
      "metadata": {
        "id": "IiZDuvBUpILc"
      },
      "outputs": [],
      "source": [
        "import os\n",
        "\n",
        "inited = True\n",
        "if os.path.isfile('.inited') is False:\n",
        "  inited = False\n",
        "\n",
        "def curl_local_url(port):\n",
        "  while True:\n",
        "    try:\n",
        "      output = subprocess.check_output(['curl', '-s', 'http://127.0.0.1:' + str(port) + '/']).decode('utf-8')\n",
        "      print(\"Success to connect http://127.0.0.1:\" + str(port))\n",
        "      break  # Break out of the loop if successful\n",
        "    except subprocess.CalledProcessError:\n",
        "      # print(\"Check http://127.0.0.1:\" + str(port) + \"/ failed. Retrying in 5 seconds...\")\n",
        "      time.sleep(5)\n",
        "      continue  # Retry in case of failure"
      ]
    },
    {
      "cell_type": "code",
      "execution_count": null,
      "metadata": {
        "id": "6ErWymsqpKFn"
      },
      "outputs": [],
      "source": [
        "def wait_for_cloudflare():\n",
        "  file_path = f'/content/docker-app/{PROJECT_NAME}/.cloudflare.url'\n",
        "\n",
        "  while not os.path.exists(file_path):\n",
        "    time.sleep(3)  # Check every 1 second\n",
        "\n",
        "  # File found, read and print its contents\n",
        "  # with open(file_path, 'r') as file:\n",
        "  #   content = file.read()\n",
        "  #   print(f\"Public URL: {content}\")"
      ]
    },
    {
      "cell_type": "code",
      "execution_count": null,
      "metadata": {
        "id": "JcDQBA6zpLRT"
      },
      "outputs": [],
      "source": [
        "def wait_for_docker_web_ready():\n",
        "  file_path = f'/content/docker-app/{PROJECT_NAME}/.docker-web.ready'\n",
        "\n",
        "  while not os.path.exists(file_path):\n",
        "    time.sleep(3)  # Check every 1 second\n",
        "\n",
        "  # File found, read and print its contents\n",
        "  # with open(file_path, 'r') as file:\n",
        "  #   content = file.read()\n",
        "  #   print(f\"Public URL: {content}\")\n",
        "\n",
        "  !sleep 10"
      ]
    },
    {
      "cell_type": "code",
      "execution_count": null,
      "metadata": {
        "id": "K3mrOpDSpOa2"
      },
      "outputs": [],
      "source": [
        "def keep_waiting():\n",
        "  while True:\n",
        "    time.sleep(1)  # Check every 1 second"
      ]
    },
    {
      "cell_type": "code",
      "execution_count": null,
      "metadata": {
        "id": "5yp8CTj-pPuK"
      },
      "outputs": [],
      "source": [
        "if inited is False:\n",
        "  import os\n",
        "  from subprocess import getoutput\n",
        "  from google.colab import drive\n",
        "  import subprocess\n",
        "\n",
        "def mountGDrive():\n",
        "  if not os.path.exists(\"/google-drive\"):\n",
        "    drive.mount('/google-drive')  # access drive\n",
        "  folder_path = \"/google-drive/MyDrive/docker-app/\" + PROJECT_NAME + \"/\"\n",
        "  if not os.path.exists(folder_path):\n",
        "    os.makedirs(folder_path)\n",
        "\n",
        "  target_folder_path = \"/content/docker-app/\"\n",
        "  if not os.path.exists(target_folder_path):\n",
        "    os.makedirs(target_folder_path)\n",
        "\n",
        "  command = [\"ln\", \"-s\", folder_path, target_folder_path]\n",
        "  subprocess.run(command, check=True)"
      ]
    },
    {
      "cell_type": "code",
      "execution_count": null,
      "metadata": {
        "id": "AbuGoce7pRos"
      },
      "outputs": [],
      "source": [
        "if inited is False:\n",
        "  import os\n",
        "  import shutil\n",
        "\n",
        "def check_solrconfig():\n",
        "    file_path = f'/content/docker-app/{PROJECT_NAME}/solrconfig.xml'\n",
        "    txt_file_path = f'/content/docker-app/{PROJECT_NAME}/solrconfig.xml.txt'\n",
        "\n",
        "    if os.path.exists(file_path) and os.path.exists(txt_file_path) is False:\n",
        "        shutil.copyfile(file_path, txt_file_path)"
      ]
    },
    {
      "cell_type": "code",
      "execution_count": null,
      "metadata": {
        "id": "UV2w2gQnpS63"
      },
      "outputs": [],
      "source": [
        "if inited is False:\n",
        "  import os\n",
        "  from subprocess import getoutput\n",
        "  import subprocess\n",
        "\n",
        "def clearData():\n",
        "  stop_udocker()\n",
        "  command = [\"rm\", \"-rf\", \"/content/docker-app/\" + PROJECT_NAME]\n",
        "  subprocess.run(command, check=True)"
      ]
    },
    {
      "cell_type": "code",
      "execution_count": null,
      "metadata": {
        "id": "yfm79IP4pWCg"
      },
      "outputs": [],
      "source": [
        "if inited is False:\n",
        "\n",
        "  !pip install CherryPy==18.8.0\n",
        "  !pip install udocker==1.3.10\n",
        "  !udocker --allow-root install\n",
        "  import subprocess\n",
        "  import cherrypy\n",
        "  import time\n",
        "  from google.colab.output import eval_js\n",
        "  !rm -rf ./sample_data*"
      ]
    },
    {
      "cell_type": "code",
      "execution_count": null,
      "metadata": {
        "id": "JOYvFixPpYjA"
      },
      "outputs": [],
      "source": [
        "# ==================\n",
        "if inited is False:\n",
        "  !pip install pyyaml==6.0.1\n",
        "  import yaml\n",
        "\n",
        "def get_config_from_yaml():\n",
        "  yaml_file_path = f\"./.docker-app/{PROJECT_NAME}/docker-build/image/docker-compose-template.yml\"\n",
        "\n",
        "  with open(yaml_file_path, \"r\") as file:\n",
        "    yaml_data = yaml.safe_load(file)\n",
        "  # print(yaml_data)\n",
        "\n",
        "  # Assuming there is only one service named \"app\" in your YAML\n",
        "  webapp_ports = yaml_data.get(\"services\", {}).get(\"app\", {}).get(\"ports\", [])\n",
        "  WEBAPP_PORT = None\n",
        "\n",
        "  for port_mapping in webapp_ports:\n",
        "      # Check if the mapping is in the format \"HOST_PORT:CONTAINER_PORT\"\n",
        "      if isinstance(port_mapping, str) and \":\" in port_mapping:\n",
        "        # print(port_mapping)\n",
        "        host_port, container_port = port_mapping.split(\":\")\n",
        "        WEBAPP_PORT = host_port\n",
        "        break\n",
        "\n",
        "  # ============\n",
        "  environments = yaml_data.get(\"services\", {}).get(\"app\", {}).get(\"environment\", [])\n",
        "  LOCAL_VOLUMN_PATH = None\n",
        "  for env_mapping in environments:\n",
        "      # Check if the mapping is in the format \"HOST_PORT:CONTAINER_PORT\"\n",
        "      if isinstance(env_mapping, str) and \"LOCAL_VOLUMN_PATH=\" in env_mapping:\n",
        "        # print(port_mapping)\n",
        "        key, value = env_mapping.split(\"=\")\n",
        "        LOCAL_VOLUMN_PATH = value\n",
        "        break\n",
        "\n",
        "  RUN_COMMAND = None\n",
        "  for env_mapping in environments:\n",
        "      # Check if the mapping is in the format \"HOST_PORT:CONTAINER_PORT\"\n",
        "      if isinstance(env_mapping, str) and \"RUN_COMMAND=\" in env_mapping:\n",
        "        # print(port_mapping)\n",
        "        key, value = env_mapping.split(\"=\")\n",
        "        RUN_COMMAND = value\n",
        "        break\n",
        "\n",
        "  # ============\n",
        "  app = yaml_data.get(\"services\", {}).get(\"app\", {})\n",
        "  # print(app)\n",
        "  IMAGE_NAME = app['image']\n",
        "\n",
        "  return WEBAPP_PORT, LOCAL_VOLUMN_PATH, IMAGE_NAME, RUN_COMMAND\n"
      ]
    },
    {
      "cell_type": "code",
      "execution_count": null,
      "metadata": {
        "id": "qtAyZhXXpaBS"
      },
      "outputs": [],
      "source": [
        "# ==================\n",
        "\n",
        "def stop_udocker():\n",
        "  #!udocker --allow-root ps\n",
        "  !udocker --allow-root ps | awk 'NR > 1 {print $1}' | xargs -I {} udocker --allow-root rm {}\n",
        "  !pgrep java && pkill java && sleep 5\n"
      ]
    },
    {
      "cell_type": "code",
      "execution_count": null,
      "metadata": {
        "id": "z8W71TM8pbFL"
      },
      "outputs": [],
      "source": [
        "def run_udocker():\n",
        "  WEBAPP_PORT, LOCAL_VOLUMN_PATH, IMAGE_NAME, RUN_COMMAND = get_config_from_yaml()\n",
        "\n",
        "  # !rm -f /content/docker-app/$PROJECT_NAME/.docker-web.ready || true\n",
        "  # !rm -f /content/docker-app/$PROJECT_NAME/.cloudflare.url || true\n",
        "  ![ -e /content/docker-app/$PROJECT_NAME/.cloudflare.url ] && rm /content/docker-app/$PROJECT_NAME/.cloudflare.url\n",
        "  ![ -e /content/docker-app/$PROJECT_NAME/.docker-web.ready ] && rm /content/docker-app/$PROJECT_NAME/.docker-web.ready\n",
        "\n",
        "  RUN_IN_BACKGROUND = True\n",
        "  if WEBAPP_PORT is None:\n",
        "    RUN_IN_BACKGROUND = False\n",
        "\n",
        "  if RUN_IN_BACKGROUND is False:\n",
        "    run_udocker_in_foreground()\n",
        "  else:\n",
        "    run_udocker_in_background()\n"
      ]
    },
    {
      "cell_type": "code",
      "execution_count": null,
      "metadata": {
        "id": "6Mj2PaTLpcEi"
      },
      "outputs": [],
      "source": [
        "def run_udocker_in_foreground():\n",
        "\n",
        "  WEBAPP_PORT, LOCAL_VOLUMN_PATH, IMAGE_NAME, RUN_COMMAND = get_config_from_yaml()\n",
        "\n",
        "  # print('Run container in foreground..')\n",
        "  # subprocess.run(['udocker', '--allow-root', 'run', '-p' ,f'\"{WEBAPP_PORT}:{WEBAPP_PORT}\"', f'--volume=\"/content/docker-app/{PROJECT_NAME}:{LOCAL_VOLUMN_PATH}\"', IMAGE_NAME])\n",
        "  # !udocker --allow-root run -p \"$WEBAPP_PORT:$WEBAPP_PORT\" --volume=\"/content/docker-app/$PROJECT_NAME:$LOCAL_VOLUMN_PATH\" $IMAGE_NAME\n",
        "\n",
        "  # print(LOCAL_VOLUMN_PATH)\n",
        "  # print(RUN_COMMAND)\n",
        "  !mkdir -p /content/output\n",
        "  !rm -rf /content/output/*\n",
        "  !udocker --allow-root run --volume=/content/:$LOCAL_VOLUMN_PATH  --volume=/content/.docker-app/$PROJECT_NAME/app:/app --volume=/content/output:/output $IMAGE_NAME $RUN_COMMAND\n",
        "\n",
        "  print(\"Finish\")\n"
      ]
    },
    {
      "cell_type": "code",
      "execution_count": null,
      "metadata": {
        "id": "T8MPv_e-peNf"
      },
      "outputs": [],
      "source": [
        "def run_udocker_in_background():\n",
        "\n",
        "  if os.path.isfile('.cloudflared') is False:\n",
        "    !wget https://github.com/cloudflare/cloudflared/releases/latest/download/cloudflared-linux-amd64 -O .cloudflared\n",
        "    !chmod a+x .cloudflared\n",
        "\n",
        "  stop_udocker()\n",
        "\n",
        "  !mkdir -p /content/docker-app/$PROJECT_NAME\n",
        "\n",
        "  WEBAPP_PORT, LOCAL_VOLUMN_PATH, IMAGE_NAME, RUN_COMMAND = get_config_from_yaml()\n",
        "  !rm -rf ./*nohup.out\n",
        "  !rm -rf ./docker-app/$PROJECT_NAME/.cloudflare.url\n",
        "\n",
        "  print('Run container in background..')\n",
        "  # print(['nohup', 'udocker', '--allow-root', 'run', '-p', f'{WEBAPP_PORT}:{WEBAPP_PORT}', f'--volume=\"/content/docker-app/{PROJECT_NAME}:{LOCAL_VOLUMN_PATH}\"', IMAGE_NAME, '>', '.nohup.out', '2>&1'])\n",
        "  # subprocess.Popen(['nohup', 'udocker', '--allow-root', 'run', '-p', f'\"{WEBAPP_PORT}:{WEBAPP_PORT}\"', f'--volume=\"/content/docker-app/{PROJECT_NAME}:{LOCAL_VOLUMN_PATH}\"', IMAGE_NAME, '>', '.nohup.out', '2>&1'])\n",
        "  # !udocker --allow-root run -p \"$WEBAPP_PORT:$WEBAPP_PORT\" --volume=\"/content/docker-app/$PROJECT_NAME:$LOCAL_VOLUMN_PATH\" $IMAGE_NAME &\n",
        "  # print(['udocker', '--allow-root', 'run', '-p', f'\"{WEBAPP_PORT}:{WEBAPP_PORT}\"', f'--volume=\"/content/docker-app/{PROJECT_NAME}:{LOCAL_VOLUMN_PATH}\"', IMAGE_NAME])\n",
        "  # subprocess.Popen(['udocker', '--allow-root', 'run', '-p', f'{WEBAPP_PORT}:{WEBAPP_PORT}', f'--volume=\"/content/docker-app/{PROJECT_NAME}:{LOCAL_VOLUMN_PATH}\"', IMAGE_NAME])\n",
        "  #!rm /content/.docker-app/udocker.sh || true\n",
        "  ![ -e /content/.docker-app/udocker.sh ] && rm /content/.docker-app/udocker.sh\n",
        "  !echo \"nohup udocker --allow-root run -p $WEBAPP_PORT:$WEBAPP_PORT --volume=/content/docker-app/$PROJECT_NAME:$LOCAL_VOLUMN_PATH $IMAGE_NAME > .nohup.out 2>&1 &\" >> /content/.docker-app/udocker.sh\n",
        "  !chmod +x /content/.docker-app/udocker.sh\n",
        "  !bash /content/.docker-app/udocker.sh\n",
        "\n",
        "  cherrypy.config.update({'server.socket_host': '0.0.0.0','server.socket_port' : int(WEBAPP_PORT)})\n",
        "  # wait_for_cloudflare()\n",
        "  curl_local_url(WEBAPP_PORT)\n",
        "  wait_for_docker_web_ready()\n",
        "\n",
        "  print('============================================================================')\n",
        "  print('請找到下面訊息的網址。網址末必須為「.trycloudflare.com 」。')\n",
        "  print('例如：https://organised-norton-talks-autos.trycloudflare.com')\n",
        "  print('')\n",
        "  print('如果沒有資料，請中斷執行後，重新執行這個cell。')\n",
        "  print('============================================================================')\n",
        "  #!cat /content/docker-app/docker-web-Apache-Solr/solrconfig.xml | grep dc.publisher\n",
        "  !./.cloudflared --url \"http://127.0.0.1:$WEBAPP_PORT\"\n"
      ]
    },
    {
      "cell_type": "code",
      "execution_count": null,
      "metadata": {
        "id": "uiJffxcvpg9r"
      },
      "outputs": [],
      "source": [
        "# ==================\n",
        "\n",
        "if inited is False:\n",
        "  %cd /content\n",
        "  !touch .inited\n",
        "  inited = True\n",
        "\n",
        "# ==================\n",
        "\n",
        "!mkdir -p ./.docker-app\n",
        "\n",
        "if os.path.isdir('/content/.docker-app/' + PROJECT_NAME) is False:\n",
        "  %cd /content/.docker-app\n",
        "  !git clone \"https://github.com/pulipulichen/{PROJECT_NAME}.git\"\n",
        "else:\n",
        "  %cd /content/.docker-app/$PROJECT_NAME\n",
        "  !git reset --hard\n",
        "  !git pull --force\n",
        "%cd /content/"
      ]
    },
    {
      "cell_type": "code",
      "execution_count": 2,
      "metadata": {
        "colab": {
          "base_uri": "https://localhost:8080/",
          "height": 1000
        },
        "id": "vPTdpr3v5Ib6",
        "outputId": "16e570ac-66ba-47f3-b2a2-777d087fe48b"
      },
      "outputs": [
        {
          "name": "stdout",
          "output_type": "stream",
          "text": [
            "Collecting CherryPy==18.8.0\n",
            "  Downloading CherryPy-18.8.0-py2.py3-none-any.whl.metadata (8.4 kB)\n",
            "Collecting cheroot>=8.2.1 (from CherryPy==18.8.0)\n",
            "  Downloading cheroot-10.0.1-py3-none-any.whl.metadata (7.1 kB)\n",
            "Collecting portend>=2.1.1 (from CherryPy==18.8.0)\n",
            "  Downloading portend-3.2.0-py3-none-any.whl.metadata (3.6 kB)\n",
            "Requirement already satisfied: more-itertools in /usr/local/lib/python3.10/dist-packages (from CherryPy==18.8.0) (10.5.0)\n",
            "Collecting zc.lockfile (from CherryPy==18.8.0)\n",
            "  Downloading zc.lockfile-3.0.post1-py3-none-any.whl.metadata (6.2 kB)\n",
            "Collecting jaraco.collections (from CherryPy==18.8.0)\n",
            "  Downloading jaraco.collections-5.1.0-py3-none-any.whl.metadata (3.9 kB)\n",
            "Collecting jaraco.functools (from cheroot>=8.2.1->CherryPy==18.8.0)\n",
            "  Downloading jaraco.functools-4.1.0-py3-none-any.whl.metadata (2.9 kB)\n",
            "Collecting tempora>=1.8 (from portend>=2.1.1->CherryPy==18.8.0)\n",
            "  Downloading tempora-5.8.0-py3-none-any.whl.metadata (3.3 kB)\n",
            "Collecting jaraco.text (from jaraco.collections->CherryPy==18.8.0)\n",
            "  Downloading jaraco.text-4.0.0-py3-none-any.whl.metadata (3.7 kB)\n",
            "Requirement already satisfied: setuptools in /usr/local/lib/python3.10/dist-packages (from zc.lockfile->CherryPy==18.8.0) (75.1.0)\n",
            "Requirement already satisfied: python-dateutil in /usr/local/lib/python3.10/dist-packages (from tempora>=1.8->portend>=2.1.1->CherryPy==18.8.0) (2.8.2)\n",
            "Collecting jaraco.context>=4.1 (from jaraco.text->jaraco.collections->CherryPy==18.8.0)\n",
            "  Downloading jaraco.context-6.0.1-py3-none-any.whl.metadata (4.1 kB)\n",
            "Collecting autocommand (from jaraco.text->jaraco.collections->CherryPy==18.8.0)\n",
            "  Downloading autocommand-2.2.2-py3-none-any.whl.metadata (15 kB)\n",
            "Collecting backports.tarfile (from jaraco.context>=4.1->jaraco.text->jaraco.collections->CherryPy==18.8.0)\n",
            "  Downloading backports.tarfile-1.2.0-py3-none-any.whl.metadata (2.0 kB)\n",
            "Requirement already satisfied: six>=1.5 in /usr/local/lib/python3.10/dist-packages (from python-dateutil->tempora>=1.8->portend>=2.1.1->CherryPy==18.8.0) (1.17.0)\n",
            "Downloading CherryPy-18.8.0-py2.py3-none-any.whl (348 kB)\n",
            "\u001b[2K   \u001b[90m━━━━━━━━━━━━━━━━━━━━━━━━━━━━━━━━━━━━━━━━\u001b[0m \u001b[32m348.4/348.4 kB\u001b[0m \u001b[31m6.2 MB/s\u001b[0m eta \u001b[36m0:00:00\u001b[0m\n",
            "\u001b[?25hDownloading cheroot-10.0.1-py3-none-any.whl (104 kB)\n",
            "\u001b[2K   \u001b[90m━━━━━━━━━━━━━━━━━━━━━━━━━━━━━━━━━━━━━━━━\u001b[0m \u001b[32m104.8/104.8 kB\u001b[0m \u001b[31m6.5 MB/s\u001b[0m eta \u001b[36m0:00:00\u001b[0m\n",
            "\u001b[?25hDownloading portend-3.2.0-py3-none-any.whl (5.3 kB)\n",
            "Downloading jaraco.collections-5.1.0-py3-none-any.whl (11 kB)\n",
            "Downloading zc.lockfile-3.0.post1-py3-none-any.whl (9.8 kB)\n",
            "Downloading tempora-5.8.0-py3-none-any.whl (14 kB)\n",
            "Downloading jaraco.functools-4.1.0-py3-none-any.whl (10 kB)\n",
            "Downloading jaraco.text-4.0.0-py3-none-any.whl (11 kB)\n",
            "Downloading jaraco.context-6.0.1-py3-none-any.whl (6.8 kB)\n",
            "Downloading autocommand-2.2.2-py3-none-any.whl (19 kB)\n",
            "Downloading backports.tarfile-1.2.0-py3-none-any.whl (30 kB)\n",
            "Installing collected packages: zc.lockfile, jaraco.functools, backports.tarfile, autocommand, tempora, jaraco.context, cheroot, portend, jaraco.text, jaraco.collections, CherryPy\n",
            "Successfully installed CherryPy-18.8.0 autocommand-2.2.2 backports.tarfile-1.2.0 cheroot-10.0.1 jaraco.collections-5.1.0 jaraco.context-6.0.1 jaraco.functools-4.1.0 jaraco.text-4.0.0 portend-3.2.0 tempora-5.8.0 zc.lockfile-3.0.post1\n"
          ]
        },
        {
          "data": {
            "application/vnd.colab-display-data+json": {
              "id": "65a9230647eb4e998afee47cfc8d4cb6",
              "pip_warning": {
                "packages": [
                  "backports",
                  "jaraco"
                ]
              }
            }
          },
          "metadata": {},
          "output_type": "display_data"
        },
        {
          "name": "stdout",
          "output_type": "stream",
          "text": [
            "Collecting udocker==1.3.10\n",
            "  Downloading udocker-1.3.10-py2.py3-none-any.whl.metadata (33 kB)\n",
            "Downloading udocker-1.3.10-py2.py3-none-any.whl (117 kB)\n",
            "\u001b[?25l   \u001b[90m━━━━━━━━━━━━━━━━━━━━━━━━━━━━━━━━━━━━━━━━\u001b[0m \u001b[32m0.0/117.7 kB\u001b[0m \u001b[31m?\u001b[0m eta \u001b[36m-:--:--\u001b[0m\r\u001b[2K   \u001b[90m━━━━━━━━━━━━━━━━━━━━━━━━━━━━━━━━━━━━━━━━\u001b[0m \u001b[32m117.7/117.7 kB\u001b[0m \u001b[31m3.6 MB/s\u001b[0m eta \u001b[36m0:00:00\u001b[0m\n",
            "\u001b[?25hInstalling collected packages: udocker\n",
            "Successfully installed udocker-1.3.10\n",
            "Info: creating repo: /root/.udocker\n",
            "Info: udocker command line interface 1.3.10\n",
            "Info: searching for udockertools >= 1.2.10\n",
            "Info: installing udockertools 1.2.10\n",
            "Info: installation of udockertools successful\n",
            "Collecting pyyaml==6.0.1\n",
            "  Downloading PyYAML-6.0.1-cp310-cp310-manylinux_2_17_x86_64.manylinux2014_x86_64.whl.metadata (2.1 kB)\n",
            "Downloading PyYAML-6.0.1-cp310-cp310-manylinux_2_17_x86_64.manylinux2014_x86_64.whl (705 kB)\n",
            "\u001b[2K   \u001b[90m━━━━━━━━━━━━━━━━━━━━━━━━━━━━━━━━━━━━━━━━\u001b[0m \u001b[32m705.5/705.5 kB\u001b[0m \u001b[31m8.0 MB/s\u001b[0m eta \u001b[36m0:00:00\u001b[0m\n",
            "\u001b[?25hInstalling collected packages: pyyaml\n",
            "  Attempting uninstall: pyyaml\n",
            "    Found existing installation: PyYAML 6.0.2\n",
            "    Uninstalling PyYAML-6.0.2:\n",
            "      Successfully uninstalled PyYAML-6.0.2\n",
            "Successfully installed pyyaml-6.0.1\n",
            "/content\n",
            "/content/.docker-app\n",
            "Cloning into 'docker-app-ScanSim-PDF'...\n",
            "remote: Enumerating objects: 276, done.\u001b[K\n",
            "remote: Counting objects: 100% (16/16), done.\u001b[K\n",
            "remote: Compressing objects: 100% (13/13), done.\u001b[K\n",
            "remote: Total 276 (delta 5), reused 12 (delta 3), pack-reused 260 (from 1)\u001b[K\n",
            "Receiving objects: 100% (276/276), 1.70 MiB | 16.90 MiB/s, done.\n",
            "Resolving deltas: 100% (154/154), done.\n",
            "/content\n"
          ]
        }
      ],
      "source": [
        "# ==================\n",
        "\n",
        "def main():\n",
        "  run_udocker()"
      ]
    },
    {
      "cell_type": "code",
      "execution_count": 3,
      "metadata": {
        "id": "x9YAO8Z65KyX"
      },
      "outputs": [],
      "source": [
        "# clearData()"
      ]
    },
    {
      "cell_type": "code",
      "execution_count": 4,
      "metadata": {
        "id": "Q5fPXjdA5Lsi"
      },
      "outputs": [],
      "source": [
        "# mountGDrive()"
      ]
    },
    {
      "cell_type": "markdown",
      "metadata": {
        "id": "8bfDTm-H5Mhs"
      },
      "source": [
        "# **Runtime**"
      ]
    },
    {
      "cell_type": "code",
      "execution_count": 5,
      "metadata": {
        "colab": {
          "base_uri": "https://localhost:8080/"
        },
        "id": "uYv508WC5Nkd",
        "outputId": "7c6ffa1d-e9f5-48df-c3e6-f2d0a61b05a3"
      },
      "outputs": [
        {
          "name": "stdout",
          "output_type": "stream",
          "text": [
            "Info: downloading layer sha256:56bf31689f230cd959108501b077cc3f1092e14249b74c0883b80088829ccdfd\n",
            "Info: downloading layer sha256:0dc4a61eff546a65ad53cf1e218ddf3d18d74886f3d2b4ecf4f8426b0641fbcc\n",
            "Info: downloading layer sha256:3fb59ab32cec2e7c25972b7868127bcb08cc863a8b3a66c1e56a2496f0eac8cc\n",
            "Info: downloading layer sha256:a8efde2b2fa9a36d5203bd9de04938e87a9d22a5f6b841af7be4dc726d62d2e5\n",
            "Info: downloading layer sha256:3fe002cb6ff9063faffdcf11a720c39809ac4faf1d7edd192feb6ee3da6ed950\n",
            "Info: downloading layer sha256:8087a1a6e516cd878248159a811220ea5ec3762fa3dec6072ff153ae2e9acf6d\n",
            "Info: downloading layer sha256:fb6b2f7bfb887ca13efd129fbda7f2711a37dafce1e7a0ce559caf9dc3123272\n",
            "Info: downloading layer sha256:feb19eef7abcf348f901a635a7dd7c0cfd977b75bba5f3f738c827f35a34f0da\n",
            "Info: downloading layer sha256:a84e23bbd4479ad561bdbda86af80704c8fc3314c4103f0150267263423b2558\n",
            "Info: downloading layer sha256:538ffe662a77edae748f77306da8b4e31ebc42b5de884b8bf85b2ad53f8d99b3\n",
            "Info: downloading layer sha256:c9f2ae0ccdcb185061d31305b5fddbb634715e61421e77307f02567f1b84515d\n",
            "Info: downloading layer sha256:a1f360148b181a84ff24b3ace76d320f3cfb28fcb6acad1cdb5c6e60735bd83a\n",
            "Info: downloading layer sha256:d205dc8889e368dd24a89a8de314b9e824c4bc3a54f0586ef7b48668dd0d7538\n",
            "Info: downloading layer sha256:5348855a40c0d786595168e168dd7c99857720aac9c184fa69c668f0e8a91ab0\n",
            "Info: downloading layer sha256:c09b016fff62bb8002f99d7e639c0a2c0ce5a774796aae1e446e99deeb1ac01d\n",
            "Info: downloading layer sha256:3790459d63d5fdf148a092f1857010796dfa217329491b66a015a40de92f3db9\n",
            "Info: downloading layer sha256:821dc261e045ba09851c52ed28be3b9ecc9fe8c923fba05854ab0fd2fa38ceca\n",
            "Info: downloading layer sha256:aff359114acb7d843de09375f87669fffb0abd1125c16f96431bc3c4173b48f8\n",
            "Info: downloading layer sha256:c7c50787e2da71205402343dd1233b3ca6ebe70c7e790f6ba7d856b81b893200\n",
            " \n",
            " ****************************************************************************** \n",
            " *                                                                            * \n",
            " *               STARTING 32c7c1e6-3e11-377d-8108-115b0f5110a3                * \n",
            " *                                                                            * \n",
            " ****************************************************************************** \n",
            " executing: docker-entrypoint.sh\n",
            "/input/.docker-app is a directory.\n",
            "{ cacheFolder: \u001b[32m'/cache/緊急連絡 通訊錄 範例表'\u001b[39m }\n",
            "pdftoppm \"/input/緊急連絡 通訊錄 範例表.pdf\" \"/cache/緊急連絡 通訊錄 範例表/緊急連絡 通訊錄 範例表\" -png\n",
            "Finish\n"
          ]
        }
      ],
      "source": [
        "main()"
      ]
    }
  ],
  "metadata": {
    "colab": {
      "include_colab_link": true,
      "provenance": []
    },
    "kernelspec": {
      "display_name": "Python 3",
      "name": "python3"
    },
    "language_info": {
      "name": "python"
    }
  },
  "nbformat": 4,
  "nbformat_minor": 0
}
